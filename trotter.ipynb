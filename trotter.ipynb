import numpy as np
import matplotlib.pyplot as plt
from qutip import *
qutip.settings.has_mkl=False # This might fix the OS erros
from zutils import *
N = 2 # Qubits are two-level systems

detuning = 0+.5*np.pi
signal_strength = np.pi
state = basis(2,0)
dt = 0.05
tlist = np.linspace(1,100,1)
i = 1j


sz = Qobj(jmat(.5,'z'))
sy = Qobj(jmat(.5,'y'))

sm = Qobj(jmat(0.5,'-'))
sp = Qobj(jmat(0.5,'+'))
loss = 0.0
gain = 0.0



sphere=Bloch()
sphere2=Bloch()

for R in range(1,200):
   
    
    ## U = ((-0.5*detuning*i*sz*dt).expm()*(-1*signal_strength*i*sy*dt).expm()*(-0.5*detuning*i*sz*dt).expm())**R
    
    Uz = (-0.5*detuning*i*sz*dt).expm()
    Uy = (-1*signal_strength*i*sy*dt).expm()
    
    Ul = (-1*loss*i*sm*dt).expm()
    Ug = (-1*gain*i*sp*dt).expm()
    
    U = (0.99*Uz*Uy*Uz*Ug*Ul)**R
    
    t_theta =  2*np.arccos(U[0,0])
    t_phi =  -i * np.log( -1 * U[1,0] / np.sin(t_theta / 2)) # problem?
    t_lambda = -i * np.log( -1 * U[0,1] / np.sin(t_theta / 2))


    U_total = np.zeros([2,2],dtype=np.complex128)
    U_total[0,0] = np.cos(t_theta / 2)
    U_total[0,1] = - np.exp(i*t_lambda)*np.sin(t_theta / 2)
    U_total[1,0] = np.exp(i*t_phi)*np.sin(t_theta / 2)            # negative by convention or by offset?
    U_total[1,1] = np.exp(i*t_phi+i*t_lambda)*np.cos(t_theta / 2)
    
    

    nstate = Qobj(U * state)
    rho = Qobj(np.outer(nstate , np.conj(nstate)))
    
    u = rho[1,0] + rho[0,1]
    v = -i*(rho[1,0] - rho[0,1])
    w = rho[0,0] - rho[1,1]
    sphere.add_points([u,v,w],meth = 'm')
    #sphere.add_states(nstate)
    
    
    nstate2 = Qobj(U_total * state)
    rho2 = Qobj(np.outer(nstate2 , np.conj(nstate2)))

    u = rho2[1,0] + rho2[0,1]
    v = -i*(rho2[1,0] - rho2[0,1])
    w = rho2[0,0] - rho2[1,1]
    sphere2.add_points([u,v,w],meth = 'm')
    #sphere2.add_states(nstate2)
    
    
    
sphere.show()
sphere2.show()

U,U_total,t_phi
nstate,nstate2
